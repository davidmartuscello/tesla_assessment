{
 "cells": [
  {
   "cell_type": "code",
   "execution_count": 2,
   "id": "42fa99ed",
   "metadata": {},
   "outputs": [],
   "source": [
    "import pandas as pd\n",
    "import requests\n",
    "import glob\n",
    "import json\n",
    "import time\n",
    "import matplotlib.pyplot as plt"
   ]
  },
  {
   "cell_type": "markdown",
   "id": "5e8a4751",
   "metadata": {},
   "source": [
    "## Retrieve data from API and load into text files"
   ]
  },
  {
   "cell_type": "markdown",
   "id": "7901433d",
   "metadata": {},
   "source": [
    "I decided to store the data in a plaintext format in order to allow fast calls to the API. Validating and converting the data into json would be useful but it would have to be done in between calls to the API, which would limit the resolution of the data that could be collected. Any processing or data can happen after the data has been collected or in a separate thread. The data files are labeled in the form \"log_\\<time\\>.txt\". Each line of the file contains a separate response from the API."
   ]
  },
  {
   "cell_type": "code",
   "execution_count": 6,
   "id": "be226572",
   "metadata": {
    "collapsed": true,
    "jupyter": {
     "outputs_hidden": true
    }
   },
   "outputs": [
    {
     "ename": "KeyboardInterrupt",
     "evalue": "",
     "output_type": "error",
     "traceback": [
      "\u001b[1;31m---------------------------------------------------------------------------\u001b[0m",
      "\u001b[1;31mKeyboardInterrupt\u001b[0m                         Traceback (most recent call last)",
      "\u001b[1;32m~\\AppData\\Local\\Temp\\ipykernel_10288\\3900397974.py\u001b[0m in \u001b[0;36m<module>\u001b[1;34m\u001b[0m\n\u001b[0;32m      2\u001b[0m \u001b[1;32mwhile\u001b[0m \u001b[1;32mTrue\u001b[0m\u001b[1;33m:\u001b[0m\u001b[1;33m\u001b[0m\u001b[1;33m\u001b[0m\u001b[0m\n\u001b[0;32m      3\u001b[0m     \u001b[1;32mwhile\u001b[0m \u001b[1;33m(\u001b[0m\u001b[0mtime\u001b[0m\u001b[1;33m.\u001b[0m\u001b[0mtime\u001b[0m\u001b[1;33m(\u001b[0m\u001b[1;33m)\u001b[0m \u001b[1;33m-\u001b[0m \u001b[0mlast_collection_time\u001b[0m\u001b[1;33m)\u001b[0m \u001b[1;33m<\u001b[0m \u001b[1;36m60\u001b[0m\u001b[1;33m:\u001b[0m\u001b[1;33m\u001b[0m\u001b[1;33m\u001b[0m\u001b[0m\n\u001b[1;32m----> 4\u001b[1;33m         \u001b[0mtime\u001b[0m\u001b[1;33m.\u001b[0m\u001b[0msleep\u001b[0m\u001b[1;33m(\u001b[0m\u001b[1;36m1\u001b[0m\u001b[1;33m)\u001b[0m\u001b[1;33m\u001b[0m\u001b[1;33m\u001b[0m\u001b[0m\n\u001b[0m\u001b[0;32m      5\u001b[0m     \u001b[0mlast_collection_time\u001b[0m \u001b[1;33m=\u001b[0m \u001b[0mtime\u001b[0m\u001b[1;33m.\u001b[0m\u001b[0mtime\u001b[0m\u001b[1;33m(\u001b[0m\u001b[1;33m)\u001b[0m\u001b[1;33m\u001b[0m\u001b[1;33m\u001b[0m\u001b[0m\n\u001b[0;32m      6\u001b[0m \u001b[1;33m\u001b[0m\u001b[0m\n",
      "\u001b[1;31mKeyboardInterrupt\u001b[0m: "
     ]
    }
   ],
   "source": [
    "\n",
    "last_collection_time = time.time()\n",
    "while True:\n",
    "    while (time.time() - last_collection_time) < 60:\n",
    "        time.sleep(1)\n",
    "    last_collection_time = time.time()\n",
    "\n",
    "    filename = \"./MinuteLogs/log_\"+str(time.time())+\".txt\"\n",
    "\n",
    "    with open(filename, 'w+') as outfile:\n",
    "        sites_response = requests.get('https://te-data-test.herokuapp.com/api/sites?token=RUFTVEVSIEVHRyAjIDMuLi4KCnlvdXIgc2ljaw')\n",
    "        outfile.write(sites_response.text)\n",
    "\n",
    "        for site_id in sites_response.json()['sites']:\n",
    "            signals_response = requests.get('https://te-data-test.herokuapp.com/api/signals?token=RUFTVEVSIEVHRyAjIDMuLi4KCnlvdXIgc2ljaw&site='+site_id)\n",
    "            outfile.write(signals_response.text)\n",
    "         "
   ]
  }
 ],
 "metadata": {
  "kernelspec": {
   "display_name": "Python 3 (ipykernel)",
   "language": "python",
   "name": "python3"
  },
  "language_info": {
   "codemirror_mode": {
    "name": "ipython",
    "version": 3
   },
   "file_extension": ".py",
   "mimetype": "text/x-python",
   "name": "python",
   "nbconvert_exporter": "python",
   "pygments_lexer": "ipython3",
   "version": "3.7.3"
  }
 },
 "nbformat": 4,
 "nbformat_minor": 5
}
